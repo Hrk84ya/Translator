{
  "nbformat": 4,
  "nbformat_minor": 0,
  "metadata": {
    "colab": {
      "provenance": []
    },
    "kernelspec": {
      "name": "python3",
      "display_name": "Python 3"
    },
    "language_info": {
      "name": "python"
    }
  },
  "cells": [
    {
      "cell_type": "code",
      "source": [
        "#installing the required libraries\n",
        "pip install transformers torch"
      ],
      "metadata": {
        "id": "JiuYnyT4CD5W"
      },
      "execution_count": null,
      "outputs": []
    },
    {
      "cell_type": "code",
      "source": [
        "from transformers import pipeline\n",
        "\n",
        "def translate_text(text, source_lang='en', target_lang='es', model_name=None):\n",
        "    \"\"\"\n",
        "    Function to translate text from source language to target language using a pre-trained translation model.\n",
        "\n",
        "    :param text: The text to be translated.\n",
        "    :param source_lang: Source language code (e.g., 'en' for English).\n",
        "    :param target_lang: Target language code (e.g., 'es' for Spanish).\n",
        "    :param model_name: The name of the pre-trained translation model to use.\n",
        "    :return: The translated text.\n",
        "    \"\"\"\n",
        "    # Define model names for specific language pairs\n",
        "    model_names = {\n",
        "        ('en', 'es'): 'Helsinki-NLP/opus-mt-en-es',\n",
        "        ('es', 'en'): 'Helsinki-NLP/opus-mt-es-en',\n",
        "        ('en', 'fr'): 'Helsinki-NLP/opus-mt-en-fr',\n",
        "        ('fr', 'en'): 'Helsinki-NLP/opus-mt-fr-en',\n",
        "        ('en', 'de'): 'Helsinki-NLP/opus-mt-en-de',\n",
        "        ('de', 'en'): 'Helsinki-NLP/opus-mt-de-en',\n",
        "        # Add more language pairs as needed\n",
        "    }\n",
        "\n",
        "    # Select the appropriate model\n",
        "    if model_name is None:\n",
        "        model_name = model_names.get((source_lang, target_lang))\n",
        "        if model_name is None:\n",
        "            raise ValueError(f\"Model for translating from {source_lang} to {target_lang} not available.\")\n",
        "\n",
        "    # Load the translation pipeline with the specified model\n",
        "    translator = pipeline(\"translation\", model=model_name)\n",
        "\n",
        "    # Generate the translation\n",
        "    translation = translator(text)\n",
        "\n",
        "    # Extract and return the translated text\n",
        "    return translation[0]['translation_text']\n",
        "\n",
        "if __name__ == \"__main__\":\n",
        "    # Example text\n",
        "    document_text = \"\"\"\n",
        "    Good Morning! My name is Halsey.\n",
        "    \"\"\"\n",
        "\n",
        "    # Translate from English to Spanish\n",
        "    translated_text = translate_text(document_text, source_lang='en', target_lang='es')\n",
        "\n",
        "    # Print the translated text\n",
        "    print(\"Translated Text:\")\n",
        "    print(translated_text)\n"
      ],
      "metadata": {
        "colab": {
          "base_uri": "https://localhost:8080/"
        },
        "id": "QZfehAFp-ptl",
        "outputId": "efcfa3b7-b337-4096-f471-9a860fa1ecce"
      },
      "execution_count": 6,
      "outputs": [
        {
          "output_type": "stream",
          "name": "stdout",
          "text": [
            "Translated Text:\n",
            "Buenos días, me llamo Halsey.\n"
          ]
        }
      ]
    },
    {
      "cell_type": "code",
      "source": [],
      "metadata": {
        "id": "NNwzLdF3BgVg"
      },
      "execution_count": null,
      "outputs": []
    }
  ]
}